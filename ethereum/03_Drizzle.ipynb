{
 "cells": [
  {
   "cell_type": "markdown",
   "metadata": {},
   "source": [
    "# Drizzle\n",
    "\n",
    "We should create a separate directory for the web app:"
   ]
  },
  {
   "cell_type": "code",
   "execution_count": null,
   "metadata": {},
   "outputs": [],
   "source": [
    "!mkdir voting-drizzle\n",
    "!cd voting-drizzle"
   ]
  },
  {
   "cell_type": "markdown",
   "metadata": {},
   "source": [
    "Generate an app with drizzle:"
   ]
  },
  {
   "cell_type": "code",
   "execution_count": null,
   "metadata": {},
   "outputs": [],
   "source": [
    "!truffle unbox drizzle"
   ]
  },
  {
   "cell_type": "markdown",
   "metadata": {},
   "source": [
    "Be sure that the port match:"
   ]
  },
  {
   "cell_type": "code",
   "execution_count": null,
   "metadata": {},
   "outputs": [],
   "source": [
    "%%writefile /home/codete/workshop/voting-drizzle/truffle-config.js\n",
    "\n",
    "const path = require(\"path\");\n",
    "  \n",
    "module.exports = {\n",
    "  networks: {\n",
    "   development: {\n",
    "    host: \"localhost\",\n",
    "    port: 8545,\n",
    "    network_id: \"*\" // match any network\n",
    "   },\n",
    "  },\n",
    "  contracts_build_directory: path.join(__dirname, \"app/src/contracts\"),\n",
    "};"
   ]
  },
  {
   "cell_type": "markdown",
   "metadata": {},
   "source": [
    "After building the contract you need to migrate it into our network"
   ]
  },
  {
   "cell_type": "code",
   "execution_count": null,
   "metadata": {},
   "outputs": [],
   "source": [
    "!truffle migrate"
   ]
  },
  {
   "cell_type": "markdown",
   "metadata": {},
   "source": [
    "To run our app:"
   ]
  },
  {
   "cell_type": "code",
   "execution_count": null,
   "metadata": {},
   "outputs": [],
   "source": [
    "!cd app\n",
    "!npm run start"
   ]
  },
  {
   "cell_type": "markdown",
   "metadata": {},
   "source": [
    "More templates can be found on the truffle framework website: https://truffleframework.com/boxes. More on the conversion can be found: https://web3js.readthedocs.io/en/1.0/web3-utils.html#hextoutf8"
   ]
  }
 ],
 "metadata": {
  "kernelspec": {
   "display_name": "Python 3",
   "language": "python",
   "name": "python3"
  },
  "language_info": {
   "codemirror_mode": {
    "name": "ipython",
    "version": 3
   },
   "file_extension": ".py",
   "mimetype": "text/x-python",
   "name": "python",
   "nbconvert_exporter": "python",
   "pygments_lexer": "ipython3",
   "version": "3.6.7"
  }
 },
 "nbformat": 4,
 "nbformat_minor": 2
}
