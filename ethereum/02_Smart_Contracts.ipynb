{
 "cells": [
  {
   "cell_type": "markdown",
   "metadata": {},
   "source": [
    "# Voting application\n",
    "\n",
    "In this application we use the transactions to vote for a given candidate."
   ]
  },
  {
   "cell_type": "code",
   "execution_count": 11,
   "metadata": {},
   "outputs": [
    {
     "name": "stdout",
     "output_type": "stream",
     "text": [
      "Overwriting voting.sol\n"
     ]
    }
   ],
   "source": [
    "pragma solidity ^0.5.0;\n",
    "\n",
    "contract Voting {\n",
    "    \n",
    "    event IdeaSet(string _message);\n",
    "\n",
    "    address public admin;\n",
    "\n",
    "    constructor() public {\n",
    "        sampleIdea = Idea(\"Sample idea1\",\"description1\");\n",
    "        admin = msg.sender;\n",
    "        ideasArray.push(sampleIdea);\n",
    "        sampleIdea = Idea(\"Sample idea2\",\"description2\");\n",
    "        ideasArray.push(sampleIdea);\n",
    "    }\n",
    "    \n",
    "    struct Idea {\n",
    "        bytes32 title;\n",
    "        bytes32 description; \n",
    "    }\n",
    "\n",
    "    mapping (uint => Idea) ideas;\n",
    "    address[] voters;    \n",
    "    uint[] votes;\n",
    "\n",
    "    uint public numVoters;\n",
    "    uint numIdeas;\n",
    "\n",
    "    Idea public sampleIdea;\n",
    "    Idea[] public sampleIdeas;\n",
    "\n",
    "    Idea[] public ideasArray; \n",
    "    \n",
    "    function addIdea(bytes32 title, bytes32 description) public {\n",
    "        numIdeas++;\n",
    "        Idea memory idea = Idea(title, description);\n",
    "        ideasArray.push(idea);\n",
    "        emit IdeaSet(\"Idea stored successfully!\");\n",
    "    }\n",
    "\n",
    "   function addVote(uint ideaID) public {\n",
    "        //require(ideaID >=0 && ideaID <= ideasArray.length);\n",
    "        for (uint i=0; i<voters.length; i++) {\n",
    "            require(msg.sender != voters[i]);\n",
    "        }\n",
    "        votes.push(ideaID);\n",
    "    voters.push(msg.sender);\n",
    "    numVoters = voters.length;\n",
    "   }\n",
    "        \n",
    "   function getIdeas() public view returns (bytes32[] memory, bytes32[] memory) {\n",
    "        bytes32[] memory titles = new bytes32[](ideasArray.length);\n",
    "        bytes32[] memory descriptions = new bytes32[](ideasArray.length);\n",
    "        \n",
    "        for (uint i = 0; i < ideasArray.length; i++) {\n",
    "            Idea storage idea = ideasArray[i];\n",
    "            titles[i] = idea.title;\n",
    "            descriptions[i] = idea.description;\n",
    "        }\n",
    "\n",
    "        return (titles, descriptions);        \n",
    "   }\n",
    "}"
   ]
  }
 ],
 "metadata": {
  "kernelspec": {
   "display_name": "Python 3",
   "language": "python",
   "name": "python3"
  },
  "language_info": {
   "codemirror_mode": {
    "name": "ipython",
    "version": 3
   },
   "file_extension": ".py",
   "mimetype": "text/x-python",
   "name": "python",
   "nbconvert_exporter": "python",
   "pygments_lexer": "ipython3",
   "version": "3.6.7"
  }
 },
 "nbformat": 4,
 "nbformat_minor": 2
}
