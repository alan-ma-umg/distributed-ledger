{
 "cells": [
  {
   "cell_type": "markdown",
   "metadata": {},
   "source": [
    "# Ganache \n",
    "\n",
    "It is a local blockchain network. To get the full list of Ganache options:"
   ]
  },
  {
   "cell_type": "code",
   "execution_count": null,
   "metadata": {},
   "outputs": [],
   "source": [
    "!ganache-cli --help"
   ]
  },
  {
   "cell_type": "markdown",
   "metadata": {},
   "source": [
    "To run a local blockchain network (run it from the CLI within the docker container):"
   ]
  },
  {
   "cell_type": "code",
   "execution_count": null,
   "metadata": {},
   "outputs": [],
   "source": [
    "!ganache-cli --host=0.0.0.0 -b 5 -q --acctKeys accounts.json&"
   ]
  },
  {
   "cell_type": "markdown",
   "metadata": {},
   "source": [
    "You will get two lists of:\n",
    "- available accounts\n",
    "- private keys.\n",
    "\n",
    "Both will be saved to ``accounts.json``. \n",
    "\n",
    "The parameter ``b`` is the mining interval in seconds. "
   ]
  },
  {
   "cell_type": "markdown",
   "metadata": {},
   "source": [
    "## MetaMask\n",
    "\n",
    "After running your local blockchain, you can check the accounts in [MetaMask](https://chrome.google.com/webstore/detail/metamask/nkbihfbeogaeaoehlefnkodbefgpgknn?hl=en). The list of accounts is available in CLI after executing ``ganache-cli``. If you forgot to write it down, you can also load it from the accounts.json using Python:"
   ]
  },
  {
   "cell_type": "code",
   "execution_count": 4,
   "metadata": {},
   "outputs": [
    {
     "data": {
      "text/plain": [
       "{'0x2e692967eb40f7155b0eea8c5338340a83e41c6c': 'd11b9c19ffaffbedac2553ea922f952051fe87c3a541472b87d78481aee0f617',\n",
       " '0x6c874d2c8eb355254d2939e15e42cac41b5b7ab3': '5609464c802ea7f4bdeaec93587ab2484fc0a371590c8f6fdcfa714a4f4001f9',\n",
       " '0x9808bc3c5c4ecb68e9b131f748286b7739f20000': 'fedf83f59f190884a8147c50d1d785a02db3bf77e358d72c928fc2ba720f21a1',\n",
       " '0xeb2a4a970a1e31a47f22786e865ce38838664506': '01a6ba4e5eb8dbd9f100ec5d2c3937e5fe330d6f247134e414d179ab9eb9028b',\n",
       " '0x0759a2fd0fc07f0747e8e4db33cbd63ebb21541c': 'c6bda73b09ca82b1f9b88ce211457040902067e6addfb065a7d3ab2c7b75f0eb',\n",
       " '0x812becd29d0570d1447e9bec602f3da6ec73e664': '96bcc5d42a4eb91366b241a83f69a092506dc7b150563e354c16309240090740',\n",
       " '0x0bfcb14748c12d541cadb048778bbed06119a369': '4b676a057ab7827ccce4930e7740cb1197373eab15838b8e05365543e9e31944',\n",
       " '0x953fe1f0e08a87c55c73e7c970cbe7f7dfe1a821': 'f46d37d7b76271914c19ca4ec4d788b44e3d40c8f1f73bcbc23873647bee3474',\n",
       " '0x77c8f23b3d5ef6a16ba722ede94c6c1d564befe3': 'acdc746e4b30926c5b30bcb90c41eab1b155896339b25ada51f7ab49e9b85252',\n",
       " '0x2814e13e343e25179bda2debe88c3fa8f4ffcdb1': '09a7964ae031140683fa359401601561aefd95ee9fbf4bef58ce29958f275a68'}"
      ]
     },
     "execution_count": 4,
     "metadata": {},
     "output_type": "execute_result"
    }
   ],
   "source": [
    "import json\n",
    "\n",
    "with open('/home/codete/accounts.json', 'r') as f:\n",
    "    accounts = json.load(f)\n",
    "    \n",
    "accounts['private_keys']"
   ]
  },
  {
   "cell_type": "markdown",
   "metadata": {},
   "source": [
    "Use one of the private keys to import an account in MetaMask."
   ]
  },
  {
   "cell_type": "code",
   "execution_count": null,
   "metadata": {},
   "outputs": [],
   "source": []
  }
 ],
 "metadata": {
  "kernelspec": {
   "display_name": "Python 3",
   "language": "python",
   "name": "python3"
  },
  "language_info": {
   "codemirror_mode": {
    "name": "ipython",
    "version": 3
   },
   "file_extension": ".py",
   "mimetype": "text/x-python",
   "name": "python",
   "nbconvert_exporter": "python",
   "pygments_lexer": "ipython3",
   "version": "3.6.7"
  }
 },
 "nbformat": 4,
 "nbformat_minor": 2
}
